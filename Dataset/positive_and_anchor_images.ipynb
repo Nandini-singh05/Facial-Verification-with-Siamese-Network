{
  "nbformat": 4,
  "nbformat_minor": 0,
  "metadata": {
    "colab": {
      "provenance": []
    },
    "kernelspec": {
      "name": "python3",
      "display_name": "Python 3"
    },
    "language_info": {
      "name": "python"
    }
  },
  "cells": [
    {
      "cell_type": "markdown",
      "source": [
        "**1.Setup**\n",
        "\n",
        "**1.1 Install Dependencies**"
      ],
      "metadata": {
        "id": "c19Hq8biUAhQ"
      }
    },
    {
      "cell_type": "code",
      "execution_count": null,
      "metadata": {
        "id": "9lyC1uK1Tqy1"
      },
      "outputs": [],
      "source": [
        "!pip install tensorflow==2.12.0 opencv-python matplotlib"
      ]
    },
    {
      "cell_type": "markdown",
      "source": [
        "**1.2 Import Dependencies**"
      ],
      "metadata": {
        "id": "Y2qkgzNWUISR"
      }
    },
    {
      "cell_type": "code",
      "source": [
        "# Import standard dependencies\n",
        "import cv2\n",
        "import os\n",
        "import random\n",
        "import numpy as np\n",
        "from matplotlib import pyplot as plt"
      ],
      "metadata": {
        "id": "lxgMBrxBUIfy"
      },
      "execution_count": 2,
      "outputs": []
    },
    {
      "cell_type": "code",
      "source": [
        "# Import tensorflow dependencies \n",
        "from tensorflow.keras.models import Model\n",
        "from tensorflow.keras.layers import Layer, Conv2D, Dense, MaxPooling2D, Input, Flatten\n",
        "import tensorflow as tf"
      ],
      "metadata": {
        "id": "aRgtinvcUK26"
      },
      "execution_count": 3,
      "outputs": []
    },
    {
      "cell_type": "markdown",
      "source": [
        "**1.3 Create Folder Structure**"
      ],
      "metadata": {
        "id": "6ltU_B86UROH"
      }
    },
    {
      "cell_type": "code",
      "source": [
        "# Setup paths\n",
        "POS_PATH = os.path.join('data', 'positive')\n",
        "NEG_PATH = os.path.join('data', 'negative')\n",
        "ANC_PATH = os.path.join('data', 'anchor')"
      ],
      "metadata": {
        "id": "b2QwVjGdUPQ8"
      },
      "execution_count": 5,
      "outputs": []
    },
    {
      "cell_type": "code",
      "source": [
        "# Make the directories \n",
        "os.makedirs(POS_PATH)\n",
        "os.makedirs(NEG_PATH)\n",
        "os.makedirs(ANC_PATH)"
      ],
      "metadata": {
        "id": "HETsP_KrUTQh"
      },
      "execution_count": 6,
      "outputs": []
    },
    {
      "cell_type": "markdown",
      "source": [
        "**2.Collecting Positives, Negatives and Anchors**"
      ],
      "metadata": {
        "id": "T_ILGzTfUYet"
      }
    },
    {
      "cell_type": "markdown",
      "source": [
        "**COLLECTING NEGATIVES**"
      ],
      "metadata": {
        "id": "fw05irKAVj60"
      }
    },
    {
      "cell_type": "code",
      "source": [
        "# Get the negative data here : http://vis-www.cs.umass.edu/lfw/"
      ],
      "metadata": {
        "id": "R17jhNf5VrbI"
      },
      "execution_count": null,
      "outputs": []
    },
    {
      "cell_type": "code",
      "source": [
        "# Uncompress Tar GZ Labelled Faces in the Wild Dataset\n",
        "!tar -xf lfw.tgz"
      ],
      "metadata": {
        "id": "96yiexTpUYtQ"
      },
      "execution_count": null,
      "outputs": []
    },
    {
      "cell_type": "code",
      "source": [
        "# Move LFW Images to the following repo data/negative\n",
        "for directory in os.listdir('lfw'):\n",
        "  for file in os.listdir(os.path.join('lfw',directory)):\n",
        "    EX_PATH = os.path.join('lfw', directory, file)\n",
        "    NEW_PATH = os.path.join(NEG_PATH, file)\n",
        "    os.replace(EX_PATH, NEW_PATH)"
      ],
      "metadata": {
        "id": "qB791nNbUwRB"
      },
      "execution_count": null,
      "outputs": []
    },
    {
      "cell_type": "markdown",
      "source": [
        "**CREATING POSITIVE AND ANCHOR IMAGES**"
      ],
      "metadata": {
        "id": "ezE7OWcjU42I"
      }
    },
    {
      "cell_type": "code",
      "source": [
        "# import dependencies\n",
        "from IPython.display import display, Javascript, Image\n",
        "from google.colab.output import eval_js\n",
        "from base64 import b64decode, b64encode\n",
        "import cv2\n",
        "import numpy as np\n",
        "import PIL\n",
        "import io\n",
        "import html\n",
        "import time"
      ],
      "metadata": {
        "id": "YKKV7G34U2ek"
      },
      "execution_count": 9,
      "outputs": []
    },
    {
      "cell_type": "code",
      "source": [
        "from matplotlib import pyplot as plt\n",
        "!pip install keyboard"
      ],
      "metadata": {
        "id": "uAkZ_QQOU-uH"
      },
      "execution_count": null,
      "outputs": []
    },
    {
      "cell_type": "code",
      "source": [
        "# initialize the Haar Cascade face detection model\n",
        "face_cascade = cv2.CascadeClassifier(cv2.samples.findFile(cv2.data.haarcascades + 'haarcascade_frontalface_default.xml'))"
      ],
      "metadata": {
        "id": "R9nB4jYUVBq-"
      },
      "execution_count": null,
      "outputs": []
    },
    {
      "cell_type": "code",
      "source": [
        "# function to convert the JavaScript object into an OpenCV image\n",
        "def js_to_image(js_reply):\n",
        "  \"\"\"\n",
        "  Params:\n",
        "          js_reply: JavaScript object containing image from webcam\n",
        "  Returns:\n",
        "          img: OpenCV BGR image\n",
        "  \"\"\"\n",
        "  # decode base64 image\n",
        "  image_bytes = b64decode(js_reply.split(',')[1])\n",
        "  # convert bytes to numpy array\n",
        "  jpg_as_np = np.frombuffer(image_bytes, dtype=np.uint8)\n",
        "  # decode numpy array into OpenCV BGR image\n",
        "  img = cv2.imdecode(jpg_as_np, flags=1)\n",
        "\n",
        "  return img\n",
        "\n",
        "# function to convert OpenCV Rectangle bounding box image into base64 byte string to be overlayed on video stream\n",
        "def bbox_to_bytes(bbox_array):\n",
        "  \"\"\"\n",
        "  Params:\n",
        "          bbox_array: Numpy array (pixels) containing rectangle to overlay on video stream.\n",
        "  Returns:\n",
        "        bytes: Base64 image byte string\n",
        "  \"\"\"\n",
        "  # convert array into PIL image\n",
        "  bbox_PIL = PIL.Image.fromarray(bbox_array, 'RGBA')\n",
        "  iobuf = io.BytesIO()\n",
        "  # format bbox into png for return\n",
        "  bbox_PIL.save(iobuf, format='png')\n",
        "  # format return string\n",
        "  bbox_bytes = 'data:image/png;base64,{}'.format((str(b64encode(iobuf.getvalue()), 'utf-8')))\n",
        "\n",
        "  return bbox_bytes"
      ],
      "metadata": {
        "id": "3s79V2rEVD9i"
      },
      "execution_count": null,
      "outputs": []
    },
    {
      "cell_type": "code",
      "source": [
        "import os\n",
        "import uuid\n",
        "import keyboard\n",
        "import cv2\n",
        "import matplotlib.pyplot as plt\n",
        "\n",
        "def take_photo(filename='photo.jpg', quality=0.8):\n",
        "    js = Javascript('''\n",
        "        async function takePhoto(quality) {\n",
        "            const div = document.createElement('div');\n",
        "            const video = document.createElement('video');\n",
        "            video.style.display = 'block';\n",
        "            const stream = await navigator.mediaDevices.getUserMedia({video: true});\n",
        "\n",
        "            document.body.appendChild(video);\n",
        "            video.srcObject = stream;\n",
        "            await video.play();\n",
        "\n",
        "            // Resize the output to fit the video element.\n",
        "            google.colab.output.setIframeHeight(document.documentElement.scrollHeight, true);\n",
        "\n",
        "            // Wait for the specified key to be pressed.\n",
        "            await new Promise((resolve) => {\n",
        "                document.addEventListener('keydown', (event) => {\n",
        "                    if (event.key === 'c') {  // Change the key as per your requirement\n",
        "                        resolve();\n",
        "                    }\n",
        "                });\n",
        "            });\n",
        "\n",
        "            const canvas = document.createElement('canvas');\n",
        "            canvas.width = video.videoWidth;\n",
        "            canvas.height = video.videoHeight;\n",
        "            canvas.getContext('2d').drawImage(video, 0, 0);\n",
        "            stream.getVideoTracks()[0].stop();\n",
        "            video.remove();\n",
        "            return canvas.toDataURL('image/jpeg', quality);\n",
        "        }\n",
        "    ''')\n",
        "\n",
        "    display(js)\n",
        "\n",
        "    # Get photo data\n",
        "    data = eval_js('takePhoto({})'.format(quality))\n",
        "\n",
        "    # Get OpenCV format image\n",
        "    img = js_to_image(data)\n",
        "\n",
        "    # Convert image to grayscale\n",
        "    gray = cv2.cvtColor(img, cv2.COLOR_RGB2GRAY)\n",
        "    print(gray.shape)\n",
        "\n",
        "    # Get face bounding box coordinates using Haar Cascade\n",
        "    faces = face_cascade.detectMultiScale(gray)\n",
        "\n",
        "    # Draw face bounding box on the image\n",
        "    for (x, y, w, h) in faces:\n",
        "        img = cv2.rectangle(img, (x, y), (x+w, y+h), (255, 0, 0), 2)\n",
        "\n",
        "    # Generate a unique filename for the image\n",
        "    filename = os.path.join(ANC_PATH, '{}.jpg'.format(uuid.uuid1()))\n",
        "    img = img[120:120+250, 220:220+250, :]\n",
        "    # Save the image\n",
        "    cv2.imwrite(filename, img)\n",
        "    plt.imshow(img)\n",
        "    return filename"
      ],
      "metadata": {
        "id": "U68i2vzQVG3H"
      },
      "execution_count": null,
      "outputs": []
    },
    {
      "cell_type": "code",
      "source": [
        "import os\n",
        "import uuid\n",
        "\n",
        "# Define the number of images to capture\n",
        "num_images = 300\n",
        "\n",
        "try:\n",
        "    for i in range(num_images):\n",
        "        # Generate a unique filename for each image\n",
        "        filename = os.path.join(ANC_PATH, '{}.jpg'.format(uuid.uuid1()))\n",
        "\n",
        "        # Capture the image using take_photo() function\n",
        "        filename = take_photo(filename)\n",
        "        print('Saved image {} to {}'.format(i+1, filename))\n",
        "\n",
        "        # Show the image which was just taken\n",
        "        display(Image(filename))\n",
        "except Exception as err:\n",
        "    # Errors will be thrown if the user does not have a webcam or if they do not\n",
        "    # grant the page permission to access it\n",
        "    print(str(err))"
      ],
      "metadata": {
        "id": "i5wkulNCVLib"
      },
      "execution_count": null,
      "outputs": []
    },
    {
      "cell_type": "code",
      "source": [
        "import os\n",
        "import uuid\n",
        "import keyboard\n",
        "import cv2\n",
        "import matplotlib.pyplot as plt\n",
        "\n",
        "def take_photo(filename='photo.jpg', quality=0.8):\n",
        "    js = Javascript('''\n",
        "        async function takePhoto(quality) {\n",
        "            const div = document.createElement('div');\n",
        "            const video = document.createElement('video');\n",
        "            video.style.display = 'block';\n",
        "            const stream = await navigator.mediaDevices.getUserMedia({video: true});\n",
        "\n",
        "            document.body.appendChild(video);\n",
        "            video.srcObject = stream;\n",
        "            await video.play();\n",
        "\n",
        "            // Resize the output to fit the video element.\n",
        "            google.colab.output.setIframeHeight(document.documentElement.scrollHeight, true);\n",
        "\n",
        "            // Wait for the specified key to be pressed.\n",
        "            await new Promise((resolve) => {\n",
        "                document.addEventListener('keydown', (event) => {\n",
        "                    if (event.key === 'c') {  // Change the key as per your requirement\n",
        "                        resolve();\n",
        "                    }\n",
        "                });\n",
        "            });\n",
        "\n",
        "            const canvas = document.createElement('canvas');\n",
        "            canvas.width = video.videoWidth;\n",
        "            canvas.height = video.videoHeight;\n",
        "            canvas.getContext('2d').drawImage(video, 0, 0);\n",
        "            stream.getVideoTracks()[0].stop();\n",
        "            video.remove();\n",
        "            return canvas.toDataURL('image/jpeg', quality);\n",
        "        }\n",
        "    ''')\n",
        "\n",
        "    display(js)\n",
        "\n",
        "    # Get photo data\n",
        "    data = eval_js('takePhoto({})'.format(quality))\n",
        "\n",
        "    # Get OpenCV format image\n",
        "    img = js_to_image(data)\n",
        "\n",
        "    # Convert image to grayscale\n",
        "    gray = cv2.cvtColor(img, cv2.COLOR_RGB2GRAY)\n",
        "    print(gray.shape)\n",
        "\n",
        "    # Get face bounding box coordinates using Haar Cascade\n",
        "    faces = face_cascade.detectMultiScale(gray)\n",
        "\n",
        "    # Draw face bounding box on the image\n",
        "    for (x, y, w, h) in faces:\n",
        "        img = cv2.rectangle(img, (x, y), (x+w, y+h), (255, 0, 0), 2)\n",
        "\n",
        "    # Generate a unique filename for the image\n",
        "    filename = os.path.join(POS_PATH, '{}.jpg'.format(uuid.uuid1()))\n",
        "    img = img[120:120+250, 220:220+250, :]\n",
        "    # Save the image\n",
        "    cv2.imwrite(filename, img)\n",
        "    plt.imshow(img)\n",
        "    return filename"
      ],
      "metadata": {
        "id": "0WYaZR4YVOS0"
      },
      "execution_count": null,
      "outputs": []
    },
    {
      "cell_type": "code",
      "source": [
        "import os\n",
        "import uuid\n",
        "\n",
        "# Define the number of images to capture\n",
        "num_images = 300\n",
        "\n",
        "try:\n",
        "    for i in range(num_images):\n",
        "        # Generate a unique filename for each image\n",
        "        filename = os.path.join(POS_PATH, '{}.jpg'.format(uuid.uuid1()))\n",
        "\n",
        "        # Capture the image using take_photo() function\n",
        "        filename = take_photo(filename)\n",
        "        print('Saved image {} to {}'.format(i+1, filename))\n",
        "\n",
        "        # Show the image which was just taken\n",
        "        display(Image(filename))\n",
        "except Exception as err:\n",
        "    # Errors will be thrown if the user does not have a webcam or if they do not\n",
        "    # grant the page permission to access it\n",
        "    print(str(err))\n",
        "\n"
      ],
      "metadata": {
        "id": "Zqo5vzfbVRiH"
      },
      "execution_count": null,
      "outputs": []
    },
    {
      "cell_type": "code",
      "source": [
        "# To Download Collected Anchor Data \n",
        "import shutil\n",
        "\n",
        "# Define the path of the anchor folder\n",
        "folder_path = '/content/data/anchor'\n",
        "\n",
        "# Create a zip file of the anchor folder\n",
        "shutil.make_archive('/content/data/anchor', 'zip', folder_path)\n",
        "\n",
        "# Download the zip file\n",
        "from google.colab import files\n",
        "files.download('/content/data/anchor.zip')\n"
      ],
      "metadata": {
        "id": "uqsQdHUxVVTx"
      },
      "execution_count": null,
      "outputs": []
    },
    {
      "cell_type": "code",
      "source": [
        "# To Download Collected Positive Data \n",
        "import shutil\n",
        "\n",
        "# Define the path of the anchor folder\n",
        "folder_path = '/content/data/positive'\n",
        "\n",
        "# Create a zip file of the anchor folder\n",
        "shutil.make_archive('/content/data/positive', 'zip', folder_path)\n",
        "\n",
        "# Download the zip file\n",
        "from google.colab import files\n",
        "files.download('/content/data/positive.zip')"
      ],
      "metadata": {
        "id": "0SpyFLLIVWNq"
      },
      "execution_count": null,
      "outputs": []
    }
  ]
}